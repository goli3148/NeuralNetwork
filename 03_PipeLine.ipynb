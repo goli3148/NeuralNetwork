{
 "cells": [
  {
   "cell_type": "code",
   "execution_count": 1,
   "metadata": {},
   "outputs": [],
   "source": [
    "import torch\n",
    "import numpy as np\n",
    "import torch.nn as nn"
   ]
  },
  {
   "cell_type": "code",
   "execution_count": 2,
   "metadata": {},
   "outputs": [
    {
     "name": "stdout",
     "output_type": "stream",
     "text": [
      "epoch:5, loss:8.17471694946289, w:1.1125893592834473\n",
      "epoch:10, loss:1.609391689300537, w:1.6062512397766113\n",
      "epoch:15, loss:0.3168478012084961, w:1.825291633605957\n",
      "epoch:20, loss:0.0623791441321373, w:1.9224810600280762\n",
      "epoch:25, loss:0.012280836701393127, w:1.9656044244766235\n",
      "epoch:30, loss:0.0024177832528948784, w:1.9847384691238403\n"
     ]
    }
   ],
   "source": [
    "X = torch.tensor([1,2,3,4], dtype=torch.float32)\n",
    "Y = torch.tensor([2,4,6,8], dtype=torch.float32)\n",
    "\n",
    "w = torch.tensor(0, dtype=torch.float32, requires_grad=True)\n",
    "\n",
    "# define forward pass\n",
    "def forward(x):\n",
    "  return x * w\n",
    "\n",
    "\n",
    "learning_rate = .01\n",
    "n_iter = 30\n",
    "\n",
    "# define mse loss\n",
    "loss = nn.MSELoss()\n",
    "\n",
    "optim = torch.optim.SGD([w], lr=learning_rate)\n",
    "\n",
    "for epoch in range(n_iter):\n",
    "    y_pred = forward(X)\n",
    "\n",
    "    l = loss(Y, y_pred)\n",
    "\n",
    "    l.backward()\n",
    "\n",
    "    optim.step()\n",
    "    \n",
    "    optim.zero_grad()\n",
    "\n",
    "    if (epoch+1)%5 == 0:\n",
    "        print(f\"epoch:{epoch+1}, loss:{loss(Y, y_pred)}, w:{w}\")\n"
   ]
  },
  {
   "cell_type": "code",
   "execution_count": 3,
   "metadata": {},
   "outputs": [
    {
     "name": "stdout",
     "output_type": "stream",
     "text": [
      "epoch:10, loss:2.289, w:1.189, b:1.108\n",
      "epoch:20, loss:0.296, w:1.528, b:1.183\n",
      "epoch:30, loss:0.231, w:1.593, b:1.165\n",
      "epoch:40, loss:0.216, w:1.613, b:1.133\n",
      "epoch:50, loss:0.203, w:1.626, b:1.100\n",
      "epoch:60, loss:0.192, w:1.637, b:1.068\n",
      "epoch:70, loss:0.180, w:1.648, b:1.036\n",
      "epoch:80, loss:0.170, w:1.658, b:1.006\n",
      "epoch:90, loss:0.160, w:1.668, b:0.976\n",
      "epoch:100, loss:0.151, w:1.678, b:0.947\n"
     ]
    }
   ],
   "source": [
    "X = torch.tensor([[1],[2],[3],[4]], dtype=torch.float32)\n",
    "Y = torch.tensor([[2],[4],[6],[8]], dtype=torch.float32)\n",
    "\n",
    "n_samples, n_features = X.shape\n",
    "\n",
    "model = nn.Linear(in_features=n_features, out_features=n_features)\n",
    "\n",
    "learning_rate = .01\n",
    "n_iter = 100\n",
    "\n",
    "# define mse loss\n",
    "loss = nn.MSELoss()\n",
    "\n",
    "optim = torch.optim.SGD(model.parameters(), lr=learning_rate)\n",
    "\n",
    "for epoch in range(n_iter):\n",
    "    y_pred = model(X)\n",
    "\n",
    "    l = loss(Y, y_pred)\n",
    "\n",
    "    l.backward()\n",
    "\n",
    "    optim.step()\n",
    "    \n",
    "    optim.zero_grad()\n",
    "\n",
    "    if (epoch+1)%10 == 0:\n",
    "        [w, b] = model.parameters()\n",
    "        print(f\"epoch:{epoch+1}, loss:{l:.3f}, w:{w.item():.3f}, b:{b.item():.3f}\")\n"
   ]
  }
 ],
 "metadata": {
  "kernelspec": {
   "display_name": "Python 3",
   "language": "python",
   "name": "python3"
  },
  "language_info": {
   "codemirror_mode": {
    "name": "ipython",
    "version": 3
   },
   "file_extension": ".py",
   "mimetype": "text/x-python",
   "name": "python",
   "nbconvert_exporter": "python",
   "pygments_lexer": "ipython3",
   "version": "3.12.3"
  }
 },
 "nbformat": 4,
 "nbformat_minor": 2
}
