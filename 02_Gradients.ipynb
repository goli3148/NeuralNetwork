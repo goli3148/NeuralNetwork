{
 "cells": [
  {
   "cell_type": "code",
   "execution_count": 1,
   "metadata": {},
   "outputs": [],
   "source": [
    "import torch\n",
    "import numpy as np"
   ]
  },
  {
   "cell_type": "code",
   "execution_count": 2,
   "metadata": {},
   "outputs": [
    {
     "name": "stdout",
     "output_type": "stream",
     "text": [
      "epoch:5, loss:8.17471694946289, w:1.1125893592834473\n",
      "epoch:10, loss:1.609391689300537, w:1.6062512397766113\n",
      "epoch:15, loss:0.3168478012084961, w:1.825291633605957\n",
      "epoch:20, loss:0.0623791441321373, w:1.9224810600280762\n",
      "epoch:25, loss:0.012280836701393127, w:1.9656044244766235\n",
      "epoch:30, loss:0.0024177832528948784, w:1.9847384691238403\n"
     ]
    }
   ],
   "source": [
    "X = torch.tensor([1,2,3,4], dtype=torch.float32)\n",
    "Y = torch.tensor([2,4,6,8], dtype=torch.float32)\n",
    "\n",
    "w = torch.tensor(0, dtype=torch.float32, requires_grad=True)\n",
    "\n",
    "\n",
    "def forward(x):\n",
    "  return x * w\n",
    "\n",
    "# define mse loss\n",
    "def loss(y, y_predicted):\n",
    "  return ((y - y_predicted)**2).mean()\n",
    "\n",
    "learning_rate = .01\n",
    "n_iter = 30\n",
    "\n",
    "for epoch in range(n_iter):\n",
    "  y_pred = forward(X)\n",
    "  l = loss(Y, y_pred)\n",
    "  l.backward()\n",
    "  with torch.no_grad():\n",
    "    w -= learning_rate * w.grad\n",
    "  w.grad.zero_()\n",
    "  if (epoch+1)%5 == 0:\n",
    "    print(f\"epoch:{epoch+1}, loss:{l}, w:{w}\")\n"
   ]
  }
 ],
 "metadata": {
  "kernelspec": {
   "display_name": "Python 3",
   "language": "python",
   "name": "python3"
  },
  "language_info": {
   "codemirror_mode": {
    "name": "ipython",
    "version": 3
   },
   "file_extension": ".py",
   "mimetype": "text/x-python",
   "name": "python",
   "nbconvert_exporter": "python",
   "pygments_lexer": "ipython3",
   "version": "3.12.3"
  }
 },
 "nbformat": 4,
 "nbformat_minor": 2
}
