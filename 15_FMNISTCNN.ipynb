{
  "cells": [
    {
      "cell_type": "code",
      "source": [
        "!pip install torchinfo"
      ],
      "metadata": {
        "colab": {
          "base_uri": "https://localhost:8080/"
        },
        "id": "9Adc1qXf6UHY",
        "outputId": "3a447655-1ea8-4632-8e08-69b6a6063899"
      },
      "execution_count": 1,
      "outputs": [
        {
          "output_type": "stream",
          "name": "stdout",
          "text": [
            "Collecting torchinfo\n",
            "  Downloading torchinfo-1.8.0-py3-none-any.whl (23 kB)\n",
            "Installing collected packages: torchinfo\n",
            "Successfully installed torchinfo-1.8.0\n"
          ]
        }
      ]
    },
    {
      "cell_type": "code",
      "execution_count": 2,
      "metadata": {
        "id": "RN_HHhtc6LND"
      },
      "outputs": [],
      "source": [
        "import torch\n",
        "import torch.nn as nn\n",
        "from torch.utils.data import Dataset, DataLoader\n",
        "import numpy as np\n",
        "import matplotlib.pyplot as plt\n",
        "from torchvision import datasets\n",
        "from torch.optim import Adam\n",
        "from torchinfo import summary"
      ]
    },
    {
      "cell_type": "code",
      "execution_count": 3,
      "metadata": {
        "id": "I7LC5pH66LNH"
      },
      "outputs": [],
      "source": [
        "device = torch.device('cuda' if torch.cuda.is_available() else 'cpu')"
      ]
    },
    {
      "cell_type": "code",
      "execution_count": 4,
      "metadata": {
        "colab": {
          "base_uri": "https://localhost:8080/"
        },
        "id": "aacEFg-T6LNI",
        "outputId": "2de562e0-a215-488b-ed7d-6092b4556f03"
      },
      "outputs": [
        {
          "output_type": "stream",
          "name": "stdout",
          "text": [
            "Downloading http://fashion-mnist.s3-website.eu-central-1.amazonaws.com/train-images-idx3-ubyte.gz\n",
            "Downloading http://fashion-mnist.s3-website.eu-central-1.amazonaws.com/train-images-idx3-ubyte.gz to ./data/FashionMNIST/raw/train-images-idx3-ubyte.gz\n"
          ]
        },
        {
          "output_type": "stream",
          "name": "stderr",
          "text": [
            "100%|██████████| 26421880/26421880 [00:18<00:00, 1390646.34it/s]\n"
          ]
        },
        {
          "output_type": "stream",
          "name": "stdout",
          "text": [
            "Extracting ./data/FashionMNIST/raw/train-images-idx3-ubyte.gz to ./data/FashionMNIST/raw\n",
            "\n",
            "Downloading http://fashion-mnist.s3-website.eu-central-1.amazonaws.com/train-labels-idx1-ubyte.gz\n",
            "Downloading http://fashion-mnist.s3-website.eu-central-1.amazonaws.com/train-labels-idx1-ubyte.gz to ./data/FashionMNIST/raw/train-labels-idx1-ubyte.gz\n"
          ]
        },
        {
          "output_type": "stream",
          "name": "stderr",
          "text": [
            "100%|██████████| 29515/29515 [00:00<00:00, 203059.27it/s]\n"
          ]
        },
        {
          "output_type": "stream",
          "name": "stdout",
          "text": [
            "Extracting ./data/FashionMNIST/raw/train-labels-idx1-ubyte.gz to ./data/FashionMNIST/raw\n",
            "\n",
            "Downloading http://fashion-mnist.s3-website.eu-central-1.amazonaws.com/t10k-images-idx3-ubyte.gz\n",
            "Downloading http://fashion-mnist.s3-website.eu-central-1.amazonaws.com/t10k-images-idx3-ubyte.gz to ./data/FashionMNIST/raw/t10k-images-idx3-ubyte.gz\n"
          ]
        },
        {
          "output_type": "stream",
          "name": "stderr",
          "text": [
            "100%|██████████| 4422102/4422102 [00:02<00:00, 1570639.69it/s]\n"
          ]
        },
        {
          "output_type": "stream",
          "name": "stdout",
          "text": [
            "Extracting ./data/FashionMNIST/raw/t10k-images-idx3-ubyte.gz to ./data/FashionMNIST/raw\n",
            "\n",
            "Downloading http://fashion-mnist.s3-website.eu-central-1.amazonaws.com/t10k-labels-idx1-ubyte.gz\n",
            "Downloading http://fashion-mnist.s3-website.eu-central-1.amazonaws.com/t10k-labels-idx1-ubyte.gz to ./data/FashionMNIST/raw/t10k-labels-idx1-ubyte.gz\n"
          ]
        },
        {
          "output_type": "stream",
          "name": "stderr",
          "text": [
            "100%|██████████| 5148/5148 [00:00<00:00, 8065848.71it/s]"
          ]
        },
        {
          "output_type": "stream",
          "name": "stdout",
          "text": [
            "Extracting ./data/FashionMNIST/raw/t10k-labels-idx1-ubyte.gz to ./data/FashionMNIST/raw\n",
            "\n",
            "torch.Size([60000, 28, 28])\n",
            "torch.Size([10000])\n"
          ]
        },
        {
          "output_type": "stream",
          "name": "stderr",
          "text": [
            "\n"
          ]
        }
      ],
      "source": [
        "datafolder = './data'\n",
        "tr_fmnist = datasets.FashionMNIST(root=datafolder, download=True, train=True)\n",
        "val_fmnist = datasets.FashionMNIST(root=datafolder, download=True, train=False)\n",
        "\n",
        "tr_x = tr_fmnist.data\n",
        "tr_y = tr_fmnist.targets\n",
        "\n",
        "val_x = val_fmnist.data\n",
        "val_y = val_fmnist.targets\n",
        "\n",
        "print(tr_x.shape)\n",
        "print(val_y.shape)"
      ]
    },
    {
      "cell_type": "code",
      "execution_count": 5,
      "metadata": {
        "id": "o5Mcix6d6LNK"
      },
      "outputs": [],
      "source": [
        "class FmnistDataSet(Dataset):\n",
        "    def __init__(self, x, y) -> None:\n",
        "        x = x.float()/255\n",
        "        x = x.view(-1, 1, 28, 28)\n",
        "        self.x, self.y = x, y\n",
        "\n",
        "    def __getitem__(self, index):\n",
        "        return self.x[index].to(device), self.y[index].to(device)\n",
        "\n",
        "    def __len__(self):\n",
        "        return len(self.x)\n",
        "\n",
        "train_dataset = FmnistDataSet(tr_x, tr_y)\n",
        "val_dataset = FmnistDataSet(val_x, val_y)\n",
        "\n",
        "train_dataloader = DataLoader(train_dataset, 64, True)\n",
        "val_dataloader   = DataLoader(val_dataset, 64, False)"
      ]
    },
    {
      "cell_type": "code",
      "execution_count": 6,
      "metadata": {
        "colab": {
          "base_uri": "https://localhost:8080/"
        },
        "id": "6enIKEMQ6LNL",
        "outputId": "7156b3c8-3244-42a2-a369-8549d8dcf78e"
      },
      "outputs": [
        {
          "output_type": "stream",
          "name": "stdout",
          "text": [
            "torch.Size([64, 1, 28, 28])\n"
          ]
        }
      ],
      "source": [
        "sample = iter(train_dataloader)\n",
        "x, y = sample._next_data()\n",
        "print(x.shape)"
      ]
    },
    {
      "cell_type": "code",
      "execution_count": 7,
      "metadata": {
        "colab": {
          "base_uri": "https://localhost:8080/"
        },
        "id": "rTjrxi8k6LNM",
        "outputId": "e6c1fae9-09bc-4648-faef-68b8264a12ef"
      },
      "outputs": [
        {
          "output_type": "execute_result",
          "data": {
            "text/plain": [
              "==========================================================================================\n",
              "Layer (type:depth-idx)                   Output Shape              Param #\n",
              "==========================================================================================\n",
              "Sequential                               [1, 10]                   --\n",
              "├─Conv2d: 1-1                            [1, 64, 26, 26]           640\n",
              "├─MaxPool2d: 1-2                         [1, 64, 13, 13]           --\n",
              "├─ReLU: 1-3                              [1, 64, 13, 13]           --\n",
              "├─Conv2d: 1-4                            [1, 128, 11, 11]          73,856\n",
              "├─MaxPool2d: 1-5                         [1, 128, 5, 5]            --\n",
              "├─ReLU: 1-6                              [1, 128, 5, 5]            --\n",
              "├─Flatten: 1-7                           [1, 3200]                 --\n",
              "├─Linear: 1-8                            [1, 256]                  819,456\n",
              "├─ReLU: 1-9                              [1, 256]                  --\n",
              "├─Linear: 1-10                           [1, 10]                   2,570\n",
              "==========================================================================================\n",
              "Total params: 896,522\n",
              "Trainable params: 896,522\n",
              "Non-trainable params: 0\n",
              "Total mult-adds (M): 10.19\n",
              "==========================================================================================\n",
              "Input size (MB): 0.00\n",
              "Forward/backward pass size (MB): 0.47\n",
              "Params size (MB): 3.59\n",
              "Estimated Total Size (MB): 4.06\n",
              "=========================================================================================="
            ]
          },
          "metadata": {},
          "execution_count": 7
        }
      ],
      "source": [
        "model = nn.Sequential(\n",
        "                    nn.Conv2d(1, 64, 3),\n",
        "                    nn.MaxPool2d(2),\n",
        "                    nn.ReLU(),\n",
        "                    nn.Conv2d(64, 128, 3),\n",
        "                    nn.MaxPool2d(2),\n",
        "                    nn.ReLU(),\n",
        "                    nn.Flatten(),\n",
        "                    nn.Linear(3200, 256),\n",
        "                    nn.ReLU(),\n",
        "                    nn.Linear(256, 10)\n",
        ").to(device)\n",
        "optim = Adam(model.parameters(), lr=1e-3)\n",
        "criterion = nn.CrossEntropyLoss()\n",
        "\n",
        "summary(model, (1,1,28,28))\n"
      ]
    },
    {
      "cell_type": "code",
      "execution_count": 8,
      "metadata": {
        "id": "2ChZBDyJ6LNM"
      },
      "outputs": [],
      "source": [
        "def train_batch(x, y, model, opt, loss):\n",
        "    model.train()\n",
        "\n",
        "    pred = model(x)\n",
        "\n",
        "    l1_regularization = 0\n",
        "\n",
        "    for param in model.parameters():\n",
        "        l1_regularization += torch.norm(param, 2)\n",
        "\n",
        "    batch_loss = loss(pred, y) + 0.0001 * l1_regularization\n",
        "\n",
        "    batch_loss.backward()\n",
        "\n",
        "    opt.step()\n",
        "\n",
        "    opt.zero_grad()\n",
        "\n",
        "    return batch_loss.item()\n",
        "\n",
        "def accuracy(x, y, model):\n",
        "    model.eval()\n",
        "    with torch.no_grad():\n",
        "        prediction = model(x)\n",
        "    max_values, argmaxes = prediction.max(-1)\n",
        "    is_correct = argmaxes == y\n",
        "    return is_correct.cpu().numpy().tolist()\n",
        "\n",
        "@torch.no_grad()\n",
        "def val_loss(x, y, model, loss):\n",
        "    model.eval()\n",
        "    prediction = model(x)\n",
        "    val_loss = loss(prediction, y)\n",
        "    return val_loss.item()"
      ]
    },
    {
      "cell_type": "code",
      "execution_count": 9,
      "metadata": {
        "colab": {
          "base_uri": "https://localhost:8080/"
        },
        "id": "b-oGoKDH6LNN",
        "outputId": "84adb1b9-7861-4000-a60a-7c32eeaba5aa"
      },
      "outputs": [
        {
          "output_type": "stream",
          "name": "stdout",
          "text": [
            "0/5: train loss:0.4553159845949236, train_acc:0.8764166666666666\n",
            "1/5: train loss:0.29570551804388, train_acc:0.9044666666666666\n",
            "2/5: train loss:0.24978993294526264, train_acc:0.9204833333333333\n",
            "3/5: train loss:0.21731614952545558, train_acc:0.9345666666666667\n",
            "4/5: train loss:0.1899538169553412, train_acc:0.94845\n"
          ]
        }
      ],
      "source": [
        "train_losses, train_accuracies = [], []\n",
        "val_losses, val_accuracies     = [], []\n",
        "\n",
        "for epoch in range(5):\n",
        "    train_epoch_losses, train_epoch_accuracies = [], []\n",
        "    for i, (x, y) in enumerate(train_dataloader):\n",
        "        loss = train_batch(x, y, model, optim, criterion)\n",
        "        train_epoch_losses.append(loss)\n",
        "    train_epoch_losses = np.mean(train_epoch_losses)\n",
        "\n",
        "    for i, (x, y) in enumerate(train_dataloader):\n",
        "        acc = accuracy(x, y, model)\n",
        "        train_epoch_accuracies.extend(acc)\n",
        "    train_epoch_accuracies = np.mean(train_epoch_accuracies)\n",
        "\n",
        "    val_epoch_loss, val_epoch_accuracy = [], []\n",
        "    for i, (x, y) in enumerate(val_dataloader):\n",
        "        val_epoch_accuracy.extend(accuracy(x, y, model))\n",
        "        val_epoch_loss.append(val_loss(x, y, model, criterion))\n",
        "    val_epoch_accuracy = np.mean(val_epoch_accuracy)\n",
        "    val_epoch_loss     = np.mean(val_epoch_loss)\n",
        "\n",
        "    train_losses.append(train_epoch_losses)\n",
        "    train_accuracies.append(train_epoch_accuracies)\n",
        "    val_losses.append(val_epoch_loss)\n",
        "    val_accuracies.append(val_epoch_accuracy)\n",
        "\n",
        "    print(f'{epoch}/5: train loss:{train_epoch_losses}, train_acc:{train_epoch_accuracies}')"
      ]
    },
    {
      "cell_type": "code",
      "execution_count": 10,
      "metadata": {
        "colab": {
          "base_uri": "https://localhost:8080/",
          "height": 430
        },
        "id": "DZ64Ko7-6LNO",
        "outputId": "e9c57462-1396-45b2-9aea-765c0d61992e"
      },
      "outputs": [
        {
          "output_type": "display_data",
          "data": {
            "text/plain": [
              "<Figure size 640x480 with 2 Axes>"
            ],
            "image/png": "[encoded data removed]"
          },
          "metadata": {}
        }
      ],
      "source": [
        "import matplotlib.pyplot as plt\n",
        "epochs = np.arange(5)+1\n",
        "fig, ax = plt.subplots(2)\n",
        "\n",
        "# ax[0].title='training and validation loss'\n",
        "ax[0].plot(epochs, train_losses)\n",
        "ax[0].scatter(epochs, val_losses)\n",
        "ax[1].plot(epochs, train_accuracies)\n",
        "ax[1].scatter(epochs, val_accuracies)\n",
        "plt.show()"
      ]
    }
  ],
  "metadata": {
    "kernelspec": {
      "display_name": "Python 3",
      "name": "python3"
    },
    "language_info": {
      "codemirror_mode": {
        "name": "ipython",
        "version": 3
      },
      "file_extension": ".py",
      "mimetype": "text/x-python",
      "name": "python",
      "nbconvert_exporter": "python",
      "pygments_lexer": "ipython3",
      "version": "3.12.3"
    },
    "colab": {
      "provenance": [],
      "gpuType": "T4"
    },
    "accelerator": "GPU"
  },
  "nbformat": 4,
  "nbformat_minor": 0
}