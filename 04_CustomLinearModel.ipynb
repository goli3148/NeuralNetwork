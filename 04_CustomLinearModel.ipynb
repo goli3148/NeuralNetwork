{
 "cells": [
  {
   "cell_type": "code",
   "execution_count": 1,
   "metadata": {},
   "outputs": [],
   "source": [
    "import torch\n",
    "import torch.nn as nn"
   ]
  },
  {
   "cell_type": "code",
   "execution_count": 2,
   "metadata": {},
   "outputs": [
    {
     "name": "stdout",
     "output_type": "stream",
     "text": [
      "epoch:10, loss:2.192, w:1.567, b:-0.051\n",
      "epoch:20, loss:0.058, w:1.907, b:0.062\n",
      "epoch:30, loss:0.003, w:1.962, b:0.078\n",
      "epoch:40, loss:0.001, w:1.971, b:0.078\n",
      "epoch:50, loss:0.001, w:1.974, b:0.076\n",
      "epoch:60, loss:0.001, w:1.975, b:0.074\n",
      "epoch:70, loss:0.001, w:1.975, b:0.072\n",
      "epoch:80, loss:0.001, w:1.976, b:0.070\n",
      "epoch:90, loss:0.001, w:1.977, b:0.068\n",
      "epoch:100, loss:0.001, w:1.978, b:0.066\n"
     ]
    }
   ],
   "source": [
    "class LinearRegression(nn.Module):\n",
    "    def __init__(self, input_dim, output_dim) -> None:\n",
    "        super(LinearRegression, self).__init__()\n",
    "        self.lin = nn.Linear(input_dim, output_dim)\n",
    "\n",
    "    def forward(self, x):\n",
    "        return self.lin(x)\n",
    "\n",
    "X = torch.tensor([[1],[2],[3],[4]], dtype=torch.float32)\n",
    "Y = torch.tensor([[2],[4],[6],[8]], dtype=torch.float32)\n",
    "\n",
    "n_samples, n_features = X.shape\n",
    "\n",
    "model = LinearRegression(n_features, n_features)\n",
    "\n",
    "loss  = nn.MSELoss()\n",
    "\n",
    "optim = torch.optim.SGD(params=model.parameters(), lr=.01)\n",
    "\n",
    "for epoch in range(100):\n",
    "    y_pred = model(X)\n",
    "\n",
    "    l = loss(Y, y_pred)\n",
    "\n",
    "    l.backward()\n",
    "\n",
    "    optim.step()\n",
    "\n",
    "    optim.zero_grad()\n",
    "\n",
    "    if (epoch+1)%10 == 0:\n",
    "        [w, b] = model.parameters()\n",
    "        print(f\"epoch:{epoch+1}, loss:{l:.3f}, w:{w.item():.3f}, b:{b.item():.3f}\")"
   ]
  }
 ],
 "metadata": {
  "kernelspec": {
   "display_name": "Python 3",
   "language": "python",
   "name": "python3"
  },
  "language_info": {
   "codemirror_mode": {
    "name": "ipython",
    "version": 3
   },
   "file_extension": ".py",
   "mimetype": "text/x-python",
   "name": "python",
   "nbconvert_exporter": "python",
   "pygments_lexer": "ipython3",
   "version": "3.12.3"
  }
 },
 "nbformat": 4,
 "nbformat_minor": 2
}
