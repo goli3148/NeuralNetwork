{
  "cells": [
    {
      "cell_type": "code",
      "execution_count": 4,
      "metadata": {
        "id": "eJRyjHUU1Wu4"
      },
      "outputs": [
        {
          "ename": "AttributeError",
          "evalue": "module 'matplotlib' has no attribute 'get_data_path'",
          "output_type": "error",
          "traceback": [
            "\u001b[1;31m---------------------------------------------------------------------------\u001b[0m",
            "\u001b[1;31mAttributeError\u001b[0m                            Traceback (most recent call last)",
            "Cell \u001b[1;32mIn[4], line 7\u001b[0m\n\u001b[0;32m      5\u001b[0m \u001b[38;5;28;01mfrom\u001b[39;00m \u001b[38;5;21;01mtorchvision\u001b[39;00m\u001b[38;5;21;01m.\u001b[39;00m\u001b[38;5;21;01mtransforms\u001b[39;00m \u001b[38;5;28;01mimport\u001b[39;00m transforms\n\u001b[0;32m      6\u001b[0m \u001b[38;5;28;01mfrom\u001b[39;00m \u001b[38;5;21;01mtorch\u001b[39;00m\u001b[38;5;21;01m.\u001b[39;00m\u001b[38;5;21;01moptim\u001b[39;00m \u001b[38;5;28;01mimport\u001b[39;00m Adam\n\u001b[1;32m----> 7\u001b[0m \u001b[38;5;28;01mimport\u001b[39;00m \u001b[38;5;21;01mmatplotlib\u001b[39;00m\u001b[38;5;21;01m.\u001b[39;00m\u001b[38;5;21;01mpyplot\u001b[39;00m \u001b[38;5;28;01mas\u001b[39;00m \u001b[38;5;21;01mplt\u001b[39;00m\n",
            "File \u001b[1;32m~\\AppData\\Roaming\\Python\\Python312\\site-packages\\matplotlib\\__init__.py:981\u001b[0m\n\u001b[0;32m    974\u001b[0m     \u001b[38;5;28;01mreturn\u001b[39;00m config\n\u001b[0;32m    977\u001b[0m \u001b[38;5;66;03m# When constructing the global instances, we need to perform certain updates\u001b[39;00m\n\u001b[0;32m    978\u001b[0m \u001b[38;5;66;03m# by explicitly calling the superclass (dict.update, dict.items) to avoid\u001b[39;00m\n\u001b[0;32m    979\u001b[0m \u001b[38;5;66;03m# triggering resolution of _auto_backend_sentinel.\u001b[39;00m\n\u001b[0;32m    980\u001b[0m rcParamsDefault \u001b[38;5;241m=\u001b[39m _rc_params_in_file(\n\u001b[1;32m--> 981\u001b[0m     \u001b[43mcbook\u001b[49m\u001b[38;5;241;43m.\u001b[39;49m\u001b[43m_get_data_path\u001b[49m\u001b[43m(\u001b[49m\u001b[38;5;124;43m\"\u001b[39;49m\u001b[38;5;124;43mmatplotlibrc\u001b[39;49m\u001b[38;5;124;43m\"\u001b[39;49m\u001b[43m)\u001b[49m,\n\u001b[0;32m    982\u001b[0m     \u001b[38;5;66;03m# Strip leading comment.\u001b[39;00m\n\u001b[0;32m    983\u001b[0m     transform\u001b[38;5;241m=\u001b[39m\u001b[38;5;28;01mlambda\u001b[39;00m line: line[\u001b[38;5;241m1\u001b[39m:] \u001b[38;5;28;01mif\u001b[39;00m line\u001b[38;5;241m.\u001b[39mstartswith(\u001b[38;5;124m\"\u001b[39m\u001b[38;5;124m#\u001b[39m\u001b[38;5;124m\"\u001b[39m) \u001b[38;5;28;01melse\u001b[39;00m line,\n\u001b[0;32m    984\u001b[0m     fail_on_error\u001b[38;5;241m=\u001b[39m\u001b[38;5;28;01mTrue\u001b[39;00m)\n\u001b[0;32m    985\u001b[0m \u001b[38;5;28mdict\u001b[39m\u001b[38;5;241m.\u001b[39mupdate(rcParamsDefault, rcsetup\u001b[38;5;241m.\u001b[39m_hardcoded_defaults)\n\u001b[0;32m    986\u001b[0m \u001b[38;5;66;03m# Normally, the default matplotlibrc file contains *no* entry for backend (the\u001b[39;00m\n\u001b[0;32m    987\u001b[0m \u001b[38;5;66;03m# corresponding line starts with ##, not #; we fill on _auto_backend_sentinel\u001b[39;00m\n\u001b[0;32m    988\u001b[0m \u001b[38;5;66;03m# in that case.  However, packagers can set a different default backend\u001b[39;00m\n\u001b[0;32m    989\u001b[0m \u001b[38;5;66;03m# (resulting in a normal `#backend: foo` line) in which case we should *not*\u001b[39;00m\n\u001b[0;32m    990\u001b[0m \u001b[38;5;66;03m# fill in _auto_backend_sentinel.\u001b[39;00m\n",
            "File \u001b[1;32mc:\\Users\\Mr.J\\.conda\\envs\\neuralnetwork\\Lib\\site-packages\\matplotlib\\cbook.py:545\u001b[0m, in \u001b[0;36m_get_data_path\u001b[1;34m(*args)\u001b[0m\n\u001b[0;32m    539\u001b[0m \u001b[38;5;28;01mdef\u001b[39;00m \u001b[38;5;21m_get_data_path\u001b[39m(\u001b[38;5;241m*\u001b[39margs):\n\u001b[0;32m    540\u001b[0m \u001b[38;5;250m    \u001b[39m\u001b[38;5;124;03m\"\"\"\u001b[39;00m\n\u001b[0;32m    541\u001b[0m \u001b[38;5;124;03m    Return the `pathlib.Path` to a resource file provided by Matplotlib.\u001b[39;00m\n\u001b[0;32m    542\u001b[0m \n\u001b[0;32m    543\u001b[0m \u001b[38;5;124;03m    ``*args`` specify a path relative to the base data path.\u001b[39;00m\n\u001b[0;32m    544\u001b[0m \u001b[38;5;124;03m    \"\"\"\u001b[39;00m\n\u001b[1;32m--> 545\u001b[0m     \u001b[38;5;28;01mreturn\u001b[39;00m Path(\u001b[43mmatplotlib\u001b[49m\u001b[38;5;241;43m.\u001b[39;49m\u001b[43mget_data_path\u001b[49m(), \u001b[38;5;241m*\u001b[39margs)\n",
            "\u001b[1;31mAttributeError\u001b[0m: module 'matplotlib' has no attribute 'get_data_path'"
          ]
        }
      ],
      "source": [
        "import torch\n",
        "import torch.nn as nn\n",
        "from torch.utils.data import Dataset, DataLoader\n",
        "from torchvision import datasets\n",
        "from torchvision.transforms import transforms\n",
        "from torch.optim import Adam\n",
        "import matplotlib.pyplot as plt"
      ]
    },
    {
      "cell_type": "code",
      "execution_count": null,
      "metadata": {
        "id": "FqYoRfxk1Wu6"
      },
      "outputs": [],
      "source": [
        "device = torch.device('cuda' if torch.cuda.is_available() else 'cpu')\n"
      ]
    },
    {
      "cell_type": "code",
      "execution_count": null,
      "metadata": {
        "colab": {
          "base_uri": "https://localhost:8080/"
        },
        "id": "yUg3LMSq1Wu7",
        "outputId": "474365d1-750b-467e-910f-f3de602f451c"
      },
      "outputs": [
        {
          "name": "stdout",
          "output_type": "stream",
          "text": [
            "Downloading https://www.cs.toronto.edu/~kriz/cifar-10-python.tar.gz to data/cifar-10-python.tar.gz\n"
          ]
        },
        {
          "name": "stderr",
          "output_type": "stream",
          "text": [
            "100%|██████████| 170498071/170498071 [00:05<00:00, 30382632.96it/s]\n"
          ]
        },
        {
          "name": "stdout",
          "output_type": "stream",
          "text": [
            "Extracting data/cifar-10-python.tar.gz to data\n",
            "Files already downloaded and verified\n",
            "torch.Size([512, 3, 32, 32])\n",
            "torch.Size([512])\n"
          ]
        }
      ],
      "source": [
        "datafolder = 'data'\n",
        "train_dataset = datasets.CIFAR10(root=datafolder, train=True,  download=True, transform=transforms.ToTensor())\n",
        "test_dataset  = datasets.CIFAR10(root=datafolder, train=False, download=True, transform=transforms.ToTensor())\n",
        "\n",
        "train_dataloader = DataLoader(train_dataset, 512,  True)\n",
        "test_dataloader  = DataLoader(test_dataset,  512, False)\n",
        "example = iter(train_dataloader)\n",
        "data, target = example.__next__()\n",
        "print(data.shape)\n",
        "print(target.shape)"
      ]
    },
    {
      "cell_type": "code",
      "execution_count": null,
      "metadata": {
        "id": "jHFcvtIk1Wu7"
      },
      "outputs": [],
      "source": [
        "class Encoder(nn.Module):\n",
        "    def __init__(self, batch_size=512, patch_num=4, patch_size=256):\n",
        "        super(Encoder, self).__init__()\n",
        "\n",
        "        self.batch_size = batch_size\n",
        "        self.patch_size = patch_size\n",
        "        self.patch_num  = patch_num\n",
        "\n",
        "        self.cls_token = nn.Parameter(torch.zeros(batch_size, 1, patch_size))\n",
        "        self.pose_embedding = nn.Parameter(torch.zeros(batch_size, patch_num+1, patch_size))\n",
        "\n",
        "        kernel_size = strid = 64//patch_num\n",
        "        self.patchify = nn.Conv2d(in_channels=3, out_channels=patch_size, kernel_size=kernel_size, stride=strid)\n",
        "\n",
        "        encoder_layer = nn.TransformerEncoderLayer(d_model=patch_size, nhead=4, batch_first=True)\n",
        "        self.transformer = nn.TransformerEncoder(encoder_layer=encoder_layer, num_layers=4)\n",
        "\n",
        "    def forward(self, img):\n",
        "        patches = self.patchify(img).view(self.batch_size, self.patch_num, self.patch_size)\n",
        "\n",
        "        patches = torch.concat([patches, self.cls_token], dim=1)\n",
        "\n",
        "        patches += self.pose_embedding.to(patches.device)\n",
        "\n",
        "        features = self.transformer(patches)\n",
        "\n",
        "        return features\n",
        "\n",
        "\n",
        "class Decoder(nn.Module):\n",
        "    def __init__(self, batch_size=512, patch_num=4, patch_size=256, img_channels=3, img_size=32):\n",
        "        super(Decoder, self).__init__()\n",
        "\n",
        "        self.patch_num = patch_num\n",
        "        self.patch_size = patch_size\n",
        "        self.img_size = img_size\n",
        "        self.batch_size = batch_size\n",
        "\n",
        "        self.patch_num = patch_num\n",
        "\n",
        "        self.pose_embedding = nn.Parameter(torch.zeros(batch_size, patch_num+1, patch_size))\n",
        "\n",
        "        decoder_layer = nn.TransformerEncoderLayer(d_model=patch_size, nhead=4, batch_first=True)\n",
        "        self.transformer = nn.TransformerEncoder(encoder_layer=decoder_layer, num_layers=4)\n",
        "\n",
        "        self.head = nn.Linear(in_features=patch_num*patch_size, out_features=img_channels*img_size*img_size)\n",
        "\n",
        "    def forward(self, features):\n",
        "        features += self.pose_embedding.to(features.device)\n",
        "\n",
        "        features = self.transformer(features)\n",
        "\n",
        "        features = features[:,0:self.patch_num,:]\n",
        "\n",
        "        img_flat = self.head(features.view(self.batch_size, self.patch_num*self.patch_size))\n",
        "\n",
        "        img = img_flat.view(self.batch_size, 3, self.img_size, self.img_size)\n",
        "\n",
        "        return img\n",
        "\n",
        "class AE(nn.Module):\n",
        "    def __init__(self):\n",
        "        super(AE, self).__init__()\n",
        "        self.encoder = Encoder()\n",
        "        self.decoder = Decoder()\n",
        "\n",
        "    def forward(self, img):\n",
        "        features = self.encoder(img)\n",
        "        img      = self.decoder(features)\n",
        "        return img"
      ]
    },
    {
      "cell_type": "code",
      "execution_count": null,
      "metadata": {
        "id": "kNdANBHW1Wu8"
      },
      "outputs": [],
      "source": [
        "model = AE().to(device=device)\n",
        "criterion = nn.MSELoss()\n",
        "def color_diversity_loss(output):\n",
        "    variance = torch.var(output, dim=[2, 3])  # Compute variance along the spatial dimensions\n",
        "    loss = 1 / (variance + 1e-5)  # Inverse variance to penalize low variance\n",
        "    return torch.mean(loss)\n",
        "optim = Adam(model.parameters(), lr=.001)"
      ]
    },
    {
      "cell_type": "code",
      "execution_count": null,
      "metadata": {
        "colab": {
          "base_uri": "https://localhost:8080/",
          "height": 655
        },
        "id": "ndiSghdL1Wu8",
        "outputId": "660d8ba3-2ed1-43da-d957-83234927604d"
      },
      "outputs": [
        {
          "name": "stdout",
          "output_type": "stream",
          "text": [
            "Epoch 0, Batch 0: Loss 3.5919270515441895\n"
          ]
        },
        {
          "name": "stderr",
          "output_type": "stream",
          "text": [
            "WARNING:matplotlib.image:Clipping input data to the valid range for imshow with RGB data ([0..1] for floats or [0..255] for integers).\n"
          ]
        },
        {
          "name": "stdout",
          "output_type": "stream",
          "text": [
            "Epoch 0: Test Loss 0.040822935104370114\n"
          ]
        },
        {
          "data": {
            "image/png": "[encoded data removed]",
            "text/plain": [
              "<Figure size 640x480 with 2 Axes>"
            ]
          },
          "metadata": {},
          "output_type": "display_data"
        },
        {
          "name": "stdout",
          "output_type": "stream",
          "text": [
            "Epoch 0, Batch 10: Loss 2.086756944656372\n"
          ]
        },
        {
          "name": "stderr",
          "output_type": "stream",
          "text": [
            "WARNING:matplotlib.image:Clipping input data to the valid range for imshow with RGB data ([0..1] for floats or [0..255] for integers).\n"
          ]
        },
        {
          "name": "stdout",
          "output_type": "stream",
          "text": [
            "Epoch 0: Test Loss 0.044227325916290285\n"
          ]
        },
        {
          "data": {
            "image/png": "[encoded data removed]",
            "text/plain": [
              "<Figure size 640x480 with 2 Axes>"
            ]
          },
          "metadata": {},
          "output_type": "display_data"
        }
      ],
      "source": [
        "for epoch in range(10):\n",
        "    model.train()\n",
        "    for index, (img, label) in enumerate(train_dataloader):\n",
        "        img, label = img.to(device), label.to(device)\n",
        "        optim.zero_grad()  # Reset gradients\n",
        "        reconstructed_img = model(img)\n",
        "        reconstruction_loss = criterion(reconstructed_img, img) + color_diversity_loss(reconstructed_img)\n",
        "        reconstruction_loss.backward()\n",
        "        optim.step()\n",
        "        if index % 10 == 0:\n",
        "            print(f'Epoch {epoch}, Batch {index}: Loss {reconstruction_loss.item()}')\n",
        "            test_loss = 0.0\n",
        "            model.eval()\n",
        "            with torch.no_grad():\n",
        "                for img, label in test_dataloader:\n",
        "                    img, label = img.to(device), label.to(device)\n",
        "                    reconstructed_img = model(img)\n",
        "                    reconstruction_loss = criterion(reconstructed_img, img)\n",
        "                    loss = reconstruction_loss\n",
        "                    test_loss += loss.item()\n",
        "                    break\n",
        "\n",
        "                test_loss /= len(test_dataloader)\n",
        "                print(f'Epoch {epoch}: Test Loss {test_loss}')\n",
        "                # Visualize the first original and reconstructed image in the test set\n",
        "                original_img = img[0].cpu().permute(1, 2, 0).detach().numpy()\n",
        "                reconstructed_img = reconstructed_img[0].cpu().permute(1, 2, 0).detach().numpy()\n",
        "\n",
        "                # Plot original and reconstructed images side by side\n",
        "                fig, axes = plt.subplots(1, 2)\n",
        "                axes[0].imshow(original_img)\n",
        "                axes[0].set_title(\"Original Image\")\n",
        "                axes[0].axis('off')\n",
        "\n",
        "                axes[1].imshow(reconstructed_img)\n",
        "                axes[1].set_title(\"Reconstructed Image\")\n",
        "                axes[1].axis('off')\n",
        "\n",
        "                plt.show()"
      ]
    }
  ],
  "metadata": {
    "accelerator": "GPU",
    "colab": {
      "gpuType": "T4",
      "provenance": []
    },
    "kernelspec": {
      "display_name": "Python 3",
      "name": "python3"
    },
    "language_info": {
      "codemirror_mode": {
        "name": "ipython",
        "version": 3
      },
      "file_extension": ".py",
      "mimetype": "text/x-python",
      "name": "python",
      "nbconvert_exporter": "python",
      "pygments_lexer": "ipython3",
      "version": "3.12.4"
    }
  },
  "nbformat": 4,
  "nbformat_minor": 0
}
