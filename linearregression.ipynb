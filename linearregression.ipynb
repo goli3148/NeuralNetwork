{
  "nbformat": 4,
  "nbformat_minor": 0,
  "metadata": {
    "colab": {
      "provenance": [],
      "authorship_tag": "ABX9TyNApRBPR98NxB8r5laKXqb+",
      "include_colab_link": true
    },
    "kernelspec": {
      "name": "python3",
      "display_name": "Python 3"
    },
    "language_info": {
      "name": "python"
    }
  },
  "cells": [
    {
      "cell_type": "markdown",
      "metadata": {
        "id": "view-in-github",
        "colab_type": "text"
      },
      "source": [
        "<a href=\"https://colab.research.google.com/github/goli3148/NeuralNetwork/blob/main/linearregression.ipynb\" target=\"_parent\"><img src=\"https://colab.research.google.com/assets/colab-badge.svg\" alt=\"Open In Colab\"/></a>"
      ]
    },
    {
      "cell_type": "code",
      "execution_count": null,
      "metadata": {
        "id": "OW1E_hbyQTxu"
      },
      "outputs": [],
      "source": [
        "import torch\n",
        "import numpy as np"
      ]
    },
    {
      "cell_type": "code",
      "source": [
        "X = np.array([1,2,3,4], dtype=np.float32)\n",
        "Y = np.array([2,4,6,8], dtype=np.float32)\n",
        "\n",
        "w = 0.0\n",
        "\n",
        "# define forward pass\n",
        "def forward(x):\n",
        "  return x * w\n",
        "\n",
        "# define mse loss\n",
        "def loss(y, y_predicted):\n",
        "  return ((y - y_predicted)**2).mean()\n",
        "\n",
        "# calculate grdient numerical\n",
        "def gradient(x, y, y_predicted):\n",
        "  return np.dot(2*x, y_predicted - y).mean()\n",
        "\n",
        "learning_rate = .005\n",
        "n_iter = 30\n",
        "\n",
        "for epoch in range(n_iter):\n",
        "  y_pred = forward(X)\n",
        "  w -= learning_rate * gradient(X, Y, y_pred)\n",
        "  if (epoch+1)%5 == 0:\n",
        "    print(f\"epoch:{epoch+1}, loss:{loss(Y, y_pred)}, w:{w}\")\n"
      ],
      "metadata": {
        "colab": {
          "base_uri": "https://localhost:8080/"
        },
        "id": "2Hscnrq5RK43",
        "outputId": "bf1e9507-a336-420c-c28d-eb7bde5aef48"
      },
      "execution_count": null,
      "outputs": [
        {
          "output_type": "stream",
          "name": "stdout",
          "text": [
            "epoch:5, loss:1.7294409275054932, w:1.6638600158691408\n",
            "epoch:10, loss:0.04885239899158478, w:1.9435049438476566\n",
            "epoch:15, loss:0.0013799583539366722, w:1.9905048668384557\n",
            "epoch:20, loss:3.897973874700256e-05, w:1.9984041512012487\n",
            "epoch:25, loss:1.1008271485479781e-06, w:1.999731794595719\n",
            "epoch:30, loss:3.107913926214678e-08, w:1.9999549150466924\n"
          ]
        }
      ]
    },
    {
      "cell_type": "code",
      "source": [
        "X = torch.tensor([1,2,3,4], dtype=torch.float32)\n",
        "Y = torch.tensor([2,4,6,8], dtype=torch.float32)\n",
        "\n",
        "w = torch.tensor(0, dtype=torch.float32, requires_grad=True)\n",
        "\n",
        "\n",
        "def forward(x):\n",
        "  return x * w\n",
        "\n",
        "# define mse loss\n",
        "def loss(y, y_predicted):\n",
        "  return ((y - y_predicted)**2).mean()\n",
        "\n",
        "learning_rate = .01\n",
        "n_iter = 30\n",
        "\n",
        "for epoch in range(n_iter):\n",
        "  y_pred = forward(X)\n",
        "  l = loss(Y, y_pred)\n",
        "  l.backward()\n",
        "  with torch.no_grad():\n",
        "    w -= learning_rate * w.grad\n",
        "  w.grad.zero_()\n",
        "  if (epoch+1)%5 == 0:\n",
        "    print(f\"epoch:{epoch+1}, loss:{l}, w:{w}\")\n"
      ],
      "metadata": {
        "colab": {
          "base_uri": "https://localhost:8080/"
        },
        "id": "0tjU-vj-g64s",
        "outputId": "a3043215-1b3c-40b5-fcfa-a2a7799c7621"
      },
      "execution_count": null,
      "outputs": [
        {
          "output_type": "stream",
          "name": "stdout",
          "text": [
            "epoch:5, loss:8.17471694946289, w:1.1125893592834473\n",
            "epoch:10, loss:1.609391689300537, w:1.6062512397766113\n",
            "epoch:15, loss:0.3168478012084961, w:1.825291633605957\n",
            "epoch:20, loss:0.0623791441321373, w:1.9224810600280762\n",
            "epoch:25, loss:0.012280836701393127, w:1.9656044244766235\n",
            "epoch:30, loss:0.0024177832528948784, w:1.9847384691238403\n"
          ]
        }
      ]
    }
  ]
}