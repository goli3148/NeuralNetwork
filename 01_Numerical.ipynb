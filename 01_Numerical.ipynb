{
  "cells": [
    {
      "cell_type": "markdown",
      "metadata": {
        "colab_type": "text",
        "id": "view-in-github"
      },
      "source": [
        "<a href=\"https://colab.research.google.com/github/goli3148/NeuralNetwork/blob/main/linearregression.ipynb\" target=\"_parent\"><img src=\"https://colab.research.google.com/assets/colab-badge.svg\" alt=\"Open In Colab\"/></a>"
      ]
    },
    {
      "cell_type": "code",
      "execution_count": 1,
      "metadata": {
        "id": "OW1E_hbyQTxu"
      },
      "outputs": [],
      "source": [
        "import torch\n",
        "import numpy as np"
      ]
    },
    {
      "cell_type": "code",
      "execution_count": 2,
      "metadata": {
        "colab": {
          "base_uri": "https://localhost:8080/"
        },
        "id": "2Hscnrq5RK43",
        "outputId": "bf1e9507-a336-420c-c28d-eb7bde5aef48"
      },
      "outputs": [
        {
          "name": "stdout",
          "output_type": "stream",
          "text": [
            "epoch:5, loss:1.7294409275054932, w:1.6638600158691408\n",
            "epoch:10, loss:0.04885239899158478, w:1.9435049438476566\n",
            "epoch:15, loss:0.0013799583539366722, w:1.9905048668384557\n",
            "epoch:20, loss:3.897973874700256e-05, w:1.9984041512012487\n",
            "epoch:25, loss:1.1008271485479781e-06, w:1.999731794595719\n",
            "epoch:30, loss:3.107913926214678e-08, w:1.9999549150466924\n"
          ]
        }
      ],
      "source": [
        "X = np.array([1,2,3,4], dtype=np.float32)\n",
        "Y = np.array([2,4,6,8], dtype=np.float32)\n",
        "\n",
        "w = 0.0\n",
        "\n",
        "# define forward pass\n",
        "def forward(x):\n",
        "  return x * w\n",
        "\n",
        "# define mse loss\n",
        "def loss(y, y_predicted):\n",
        "  return ((y - y_predicted)**2).mean()\n",
        "\n",
        "# calculate grdient numerical\n",
        "def gradient(x, y, y_predicted):\n",
        "  return np.dot(2*x, y_predicted - y).mean()\n",
        "\n",
        "learning_rate = .005\n",
        "n_iter = 30\n",
        "\n",
        "for epoch in range(n_iter):\n",
        "  y_pred = forward(X)\n",
        "  w -= learning_rate * gradient(X, Y, y_pred)\n",
        "  if (epoch+1)%5 == 0:\n",
        "    print(f\"epoch:{epoch+1}, loss:{loss(Y, y_pred)}, w:{w}\")\n"
      ]
    }
  ],
  "metadata": {
    "colab": {
      "authorship_tag": "ABX9TyNApRBPR98NxB8r5laKXqb+",
      "include_colab_link": true,
      "provenance": []
    },
    "kernelspec": {
      "display_name": "Python 3",
      "name": "python3"
    },
    "language_info": {
      "codemirror_mode": {
        "name": "ipython",
        "version": 3
      },
      "file_extension": ".py",
      "mimetype": "text/x-python",
      "name": "python",
      "nbconvert_exporter": "python",
      "pygments_lexer": "ipython3",
      "version": "3.12.3"
    }
  },
  "nbformat": 4,
  "nbformat_minor": 0
}
