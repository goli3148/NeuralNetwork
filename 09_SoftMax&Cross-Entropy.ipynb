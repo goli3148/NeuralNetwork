{
 "cells": [
  {
   "cell_type": "code",
   "execution_count": 16,
   "metadata": {},
   "outputs": [],
   "source": [
    "import torch\n",
    "import torch.nn as nn"
   ]
  },
  {
   "cell_type": "markdown",
   "metadata": {},
   "source": [
    "<span style=\"color:red;\">careful</span></br>\n",
    "<span>nn.CrossEntropyLoss aplies nn.LogSoftmax+nn.NLLLoss</span></br>\n",
    "<span>so not softmax in last layer</span></br>\n",
    "<span>Y should be one-hot vector encoded</span></br>\n",
    "<span>Y_pred should be raw (logits) and needs no SoftMax</span></br>"
   ]
  },
  {
   "cell_type": "code",
   "execution_count": 17,
   "metadata": {},
   "outputs": [
    {
     "name": "stdout",
     "output_type": "stream",
     "text": [
      "0.6371158957481384\n",
      "1.6432151794433594\n"
     ]
    }
   ],
   "source": [
    "loss = nn.CrossEntropyLoss()\n",
    "Y = torch.tensor([0, 2, 1])\n",
    "Y_pred_good = torch.tensor([[2, 1, .1], [.6, 1, 1.1], [0, 1, .1]])\n",
    "Y_pred_bad = torch.tensor([[2, 3, .1], [.6, 2, 1.1], [3, 1, .1]])\n",
    "\n",
    "l1 = loss(Y_pred_good, Y)\n",
    "l2 = loss(Y_pred_bad, Y)\n",
    "\n",
    "print(l1.item())\n",
    "print(l2.item())"
   ]
  },
  {
   "cell_type": "code",
   "execution_count": 18,
   "metadata": {},
   "outputs": [
    {
     "name": "stdout",
     "output_type": "stream",
     "text": [
      "tensor([0, 2, 1]) tensor([1, 1, 0])\n"
     ]
    }
   ],
   "source": [
    "_, prediction1 = torch.max(Y_pred_good, 1)\n",
    "_, prediction2 = torch.max(Y_pred_bad, 1)\n",
    "\n",
    "print(prediction1, prediction2)"
   ]
  }
 ],
 "metadata": {
  "kernelspec": {
   "display_name": "neuralnetwork",
   "language": "python",
   "name": "python3"
  },
  "language_info": {
   "codemirror_mode": {
    "name": "ipython",
    "version": 3
   },
   "file_extension": ".py",
   "mimetype": "text/x-python",
   "name": "python",
   "nbconvert_exporter": "python",
   "pygments_lexer": "ipython3",
   "version": "3.12.3"
  }
 },
 "nbformat": 4,
 "nbformat_minor": 2
}
