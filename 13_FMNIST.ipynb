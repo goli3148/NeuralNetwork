{
 "cells": [
  {
   "cell_type": "code",
   "execution_count": 1,
   "metadata": {},
   "outputs": [],
   "source": [
    "import torch\n",
    "import torch.nn as nn\n",
    "from torch.utils.data import Dataset, DataLoader\n",
    "import numpy as np\n",
    "import matplotlib.pyplot as plt\n",
    "from torchvision import datasets\n",
    "from torch.optim import SGD"
   ]
  },
  {
   "cell_type": "code",
   "execution_count": 2,
   "metadata": {},
   "outputs": [],
   "source": [
    "device = torch.device('cuda' if torch.cuda.is_available() else 'cpu')"
   ]
  },
  {
   "cell_type": "code",
   "execution_count": 3,
   "metadata": {},
   "outputs": [],
   "source": [
    "datafolder = './data'\n",
    "fmnist = datasets.FashionMNIST(root=datafolder, download=True, train=True)\n",
    "\n",
    "x = fmnist.data\n",
    "y = fmnist.targets"
   ]
  },
  {
   "cell_type": "code",
   "execution_count": 4,
   "metadata": {},
   "outputs": [],
   "source": [
    "class FmnistDataSet(Dataset):\n",
    "    def __init__(self, x, y) -> None:\n",
    "        x = x.float()/255\n",
    "        x = x.view(-1, 28*28)\n",
    "        self.x, self.y = x, y\n",
    "    \n",
    "    def __getitem__(self, index):\n",
    "        return self.x[index].to(device), self.y[index].to(device)\n",
    "    \n",
    "    def __len__(self):\n",
    "        return len(self.x)\n",
    "\n",
    "train       = FmnistDataSet(x, y)\n",
    "trainLoader = DataLoader(train, batch_size=32, shuffle=True)"
   ]
  },
  {
   "cell_type": "code",
   "execution_count": 5,
   "metadata": {},
   "outputs": [],
   "source": [
    "class Cmodel(nn.Module):\n",
    "    def __init__(self) -> None:\n",
    "        super(Cmodel, self).__init__()\n",
    "        self.fc1   = nn.Linear(28*28, 1000)\n",
    "        self.relu1 = nn.ReLU()\n",
    "        self.fc2   = nn.Linear(1000, 10)\n",
    "    \n",
    "    def forward(self, x):\n",
    "        x = self.fc1(x)\n",
    "        x = self.relu1(x)\n",
    "        x = self.fc2(x)\n",
    "        return x\n",
    "\n",
    "cmodel      = Cmodel().to(device)\n",
    "criterion   = nn.CrossEntropyLoss()\n",
    "optim       = SGD(cmodel.parameters(), lr=.001)"
   ]
  },
  {
   "cell_type": "code",
   "execution_count": 6,
   "metadata": {},
   "outputs": [],
   "source": [
    "def train_batch(x, y, model, opt, loss):\n",
    "    model.train()\n",
    "\n",
    "    pred = model(x)\n",
    "\n",
    "    batch_loss = loss(pred, y)\n",
    "\n",
    "    batch_loss.backward()\n",
    "\n",
    "    opt.step()\n",
    "\n",
    "    opt.zero_grad()\n",
    "\n",
    "    return batch_loss.item()\n",
    "\n",
    "@torch.no_grad()\n",
    "def accuracy(x, y, model):\n",
    "    model.eval()\n",
    "    prediction = model(x)\n",
    "    max_values, argmaxes = prediction.max(-1)\n",
    "    is_correct = argmaxes == y\n",
    "    return is_correct.cpu().numpy().tolist()"
   ]
  },
  {
   "cell_type": "code",
   "execution_count": 7,
   "metadata": {},
   "outputs": [
    {
     "name": "stdout",
     "output_type": "stream",
     "text": [
      "1.7299814961751303; 0.6714\n",
      "1.0845257649739584; 0.70035\n",
      "0.8759701680501302; 0.7348833333333333\n",
      "0.7806647875308991; 0.7552666666666666\n",
      "0.7219484290917715; 0.7712333333333333\n"
     ]
    }
   ],
   "source": [
    "losses, accuracies = [], []\n",
    "\n",
    "for epoch in range(5):\n",
    "    epoch_loss, epoch_acc = [], []\n",
    "    for i, (x, y) in enumerate(trainLoader):\n",
    "        batch_loss = train_batch(x, y, cmodel, optim, criterion)\n",
    "        epoch_loss.append(batch_loss)\n",
    "    losses.append(np.array(epoch_loss).mean())\n",
    "    for i, (x, y) in enumerate(trainLoader):\n",
    "        acc = accuracy(x, y, cmodel)\n",
    "        epoch_acc.extend(acc)\n",
    "    accuracies.append(np.array(epoch_acc).mean())\n",
    "    print(losses[-1], end='; ')\n",
    "    print(accuracies[-1])\n"
   ]
  }
 ],
 "metadata": {
  "kernelspec": {
   "display_name": "neuralnetwork",
   "language": "python",
   "name": "python3"
  },
  "language_info": {
   "codemirror_mode": {
    "name": "ipython",
    "version": 3
   },
   "file_extension": ".py",
   "mimetype": "text/x-python",
   "name": "python",
   "nbconvert_exporter": "python",
   "pygments_lexer": "ipython3",
   "version": "3.12.3"
  }
 },
 "nbformat": 4,
 "nbformat_minor": 2
}
