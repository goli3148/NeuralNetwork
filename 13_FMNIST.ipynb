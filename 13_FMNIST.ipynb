{
  "cells": [
    {
      "cell_type": "code",
      "execution_count": 72,
      "metadata": {
        "id": "Auo3X8gSCib7"
      },
      "outputs": [],
      "source": [
        "import torch\n",
        "import torch.nn as nn\n",
        "from torch.utils.data import Dataset, DataLoader\n",
        "import numpy as np\n",
        "import matplotlib.pyplot as plt\n",
        "from torchvision import datasets\n",
        "from torch.optim import Adam"
      ]
    },
    {
      "cell_type": "code",
      "execution_count": 73,
      "metadata": {
        "id": "656DYyhSCib-"
      },
      "outputs": [],
      "source": [
        "device = torch.device('cuda' if torch.cuda.is_available() else 'cpu')"
      ]
    },
    {
      "cell_type": "code",
      "execution_count": 74,
      "metadata": {
        "colab": {
          "base_uri": "https://localhost:8080/"
        },
        "id": "UNXQm_1YCib_",
        "outputId": "7d562f1f-c56b-49d2-8bdd-54d55821cff1"
      },
      "outputs": [
        {
          "name": "stdout",
          "output_type": "stream",
          "text": [
            "torch.Size([60000, 28, 28])\n",
            "torch.Size([10000])\n"
          ]
        }
      ],
      "source": [
        "datafolder = './data'\n",
        "tr_fmnist = datasets.FashionMNIST(root=datafolder, download=True, train=True)\n",
        "val_fmnist = datasets.FashionMNIST(root=datafolder, download=True, train=False)\n",
        "\n",
        "tr_x = tr_fmnist.data\n",
        "tr_y = tr_fmnist.targets\n",
        "\n",
        "val_x = val_fmnist.data\n",
        "val_y = val_fmnist.targets\n",
        "\n",
        "print(tr_x.shape)\n",
        "print(val_y.shape)"
      ]
    },
    {
      "cell_type": "code",
      "execution_count": 75,
      "metadata": {
        "id": "RKpjLd8hCicB"
      },
      "outputs": [],
      "source": [
        "class FmnistDataSet(Dataset):\n",
        "    def __init__(self, x, y) -> None:\n",
        "        x = x.float()/255\n",
        "        x = x.view(-1, 28*28)\n",
        "        self.x, self.y = x, y\n",
        "\n",
        "    def __getitem__(self, index):\n",
        "        return self.x[index].to(device), self.y[index].to(device)\n",
        "\n",
        "    def __len__(self):\n",
        "        return len(self.x)\n",
        "\n",
        "train_dataset = FmnistDataSet(tr_x, tr_y)\n",
        "val_dataset = FmnistDataSet(val_x, val_y)\n",
        "\n",
        "train_dataloader = DataLoader(train_dataset, 64, True)\n",
        "val_dataloader   = DataLoader(val_dataset, 64, False)"
      ]
    },
    {
      "cell_type": "code",
      "execution_count": 76,
      "metadata": {
        "id": "Jf0T3vVkCicB"
      },
      "outputs": [],
      "source": [
        "class model(nn.Module):\n",
        "    def __init__(self) -> None:\n",
        "        super(model, self).__init__()\n",
        "        self.fc1   = nn.Linear(28*28, 1000)\n",
        "        self.batch_norm = nn.BatchNorm1d(1000)\n",
        "        self.relu1 = nn.ReLU()\n",
        "        # self.fc2   = nn.Linear(256, 32)\n",
        "        # self.relu2 = nn.ReLU()\n",
        "        self.fc3   = nn.Linear(1000, 10)\n",
        "\n",
        "    def forward(self, x):\n",
        "        x = self.fc1(x)\n",
        "        x = self.relu1(x)\n",
        "        x = self.batch_norm(x)\n",
        "        # x = self.fc2(x)\n",
        "        # x = self.relu2(x)\n",
        "        x = self.fc3(x)\n",
        "        return x\n",
        "\n",
        "model      = model().to(device)\n",
        "criterion   = nn.CrossEntropyLoss()\n",
        "optim       = Adam(model.parameters(), lr=.001)"
      ]
    },
    {
      "cell_type": "code",
      "execution_count": 77,
      "metadata": {
        "id": "Fn8rt7N3CicC"
      },
      "outputs": [],
      "source": [
        "def train_batch(x, y, model, opt, loss):\n",
        "    model.train()\n",
        "\n",
        "    pred = model(x)\n",
        "\n",
        "    l1_regularization = 0\n",
        "\n",
        "    for param in model.parameters():\n",
        "        l1_regularization += torch.norm(param, 2)\n",
        "\n",
        "    batch_loss = loss(pred, y) + 0.0001 * l1_regularization\n",
        "\n",
        "    batch_loss.backward()\n",
        "\n",
        "    opt.step()\n",
        "\n",
        "    opt.zero_grad()\n",
        "\n",
        "    return batch_loss.item()\n",
        "\n",
        "def accuracy(x, y, model):\n",
        "    model.eval()\n",
        "    with torch.no_grad():\n",
        "        prediction = model(x)\n",
        "    max_values, argmaxes = prediction.max(-1)\n",
        "    is_correct = argmaxes == y\n",
        "    return is_correct.cpu().numpy().tolist()\n",
        "\n",
        "@torch.no_grad()\n",
        "def val_loss(x, y, model, loss):\n",
        "    model.eval()\n",
        "    prediction = model(x)\n",
        "    val_loss = loss(prediction, y)\n",
        "    return val_loss.item()"
      ]
    },
    {
      "cell_type": "code",
      "execution_count": 78,
      "metadata": {
        "colab": {
          "base_uri": "https://localhost:8080/"
        },
        "id": "Ry7RQ7kHCicC",
        "outputId": "efa92f04-c9b0-4a99-f288-9609e95292e5"
      },
      "outputs": [
        {
          "name": "stdout",
          "output_type": "stream",
          "text": [
            "0/5: train loss:0.47375534883122455, train_acc:0.85405\n",
            "1/5: train loss:0.39352022270276854, train_acc:0.8705333333333334\n",
            "2/5: train loss:0.368059832547138, train_acc:0.8784833333333333\n",
            "3/5: train loss:0.3508195373644707, train_acc:0.8872833333333333\n",
            "4/5: train loss:0.33349552632236024, train_acc:0.8872\n"
          ]
        }
      ],
      "source": [
        "train_losses, train_accuracies = [], []\n",
        "val_losses, val_accuracies     = [], []\n",
        "\n",
        "for epoch in range(5):\n",
        "    train_epoch_losses, train_epoch_accuracies = [], []\n",
        "    for i, (x, y) in enumerate(train_dataloader):\n",
        "        loss = train_batch(x, y, model, optim, criterion)\n",
        "        train_epoch_losses.append(loss)\n",
        "    train_epoch_losses = np.mean(train_epoch_losses)\n",
        "\n",
        "    for i, (x, y) in enumerate(train_dataloader):\n",
        "        acc = accuracy(x, y, model)\n",
        "        train_epoch_accuracies.extend(acc)\n",
        "    train_epoch_accuracies = np.mean(train_epoch_accuracies)\n",
        "\n",
        "    val_epoch_loss, val_epoch_accuracy = [], []\n",
        "    for i, (x, y) in enumerate(val_dataloader):\n",
        "        val_epoch_accuracy.extend(accuracy(x, y, model))\n",
        "        val_epoch_loss.append(val_loss(x, y, model, criterion))\n",
        "    val_epoch_accuracy = np.mean(val_epoch_accuracy)\n",
        "    val_epoch_loss     = np.mean(val_epoch_loss)\n",
        "\n",
        "    train_losses.append(train_epoch_losses)\n",
        "    train_accuracies.append(train_epoch_accuracies)\n",
        "    val_losses.append(val_epoch_loss)\n",
        "    val_accuracies.append(val_epoch_accuracy)\n",
        "\n",
        "    print(f'{epoch}/5: train loss:{train_epoch_losses}, train_acc:{train_epoch_accuracies}')"
      ]
    },
    {
      "cell_type": "code",
      "execution_count": 79,
      "metadata": {
        "colab": {
          "base_uri": "https://localhost:8080/",
          "height": 430
        },
        "id": "_vqQLEtOCicD",
        "outputId": "b7cf564d-64cf-4498-ffc2-583564dd339c"
      },
      "outputs": [
        {
          "data": {
            "image/png": "[encoded data removed]",
            "text/plain": [
              "<Figure size 640x480 with 2 Axes>"
            ]
          },
          "metadata": {},
          "output_type": "display_data"
        }
      ],
      "source": [
        "import matplotlib.pyplot as plt\n",
        "epochs = np.arange(5)+1\n",
        "fig, ax = plt.subplots(2)\n",
        "\n",
        "# ax[0].title='training and validation loss'\n",
        "ax[0].plot(epochs, train_losses)\n",
        "ax[0].scatter(epochs, val_losses)\n",
        "ax[1].plot(epochs, train_accuracies)\n",
        "ax[1].scatter(epochs, val_accuracies)\n",
        "plt.show()"
      ]
    }
  ],
  "metadata": {
    "colab": {
      "provenance": []
    },
    "kernelspec": {
      "display_name": "neuralnetwork",
      "language": "python",
      "name": "python3"
    },
    "language_info": {
      "codemirror_mode": {
        "name": "ipython",
        "version": 3
      },
      "file_extension": ".py",
      "mimetype": "text/x-python",
      "name": "python",
      "nbconvert_exporter": "python",
      "pygments_lexer": "ipython3",
      "version": "3.12.4"
    }
  },
  "nbformat": 4,
  "nbformat_minor": 0
}
